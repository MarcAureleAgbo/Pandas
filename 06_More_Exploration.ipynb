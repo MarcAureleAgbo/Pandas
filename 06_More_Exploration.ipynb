{
 "cells": [
  {
   "cell_type": "code",
   "execution_count": null,
   "metadata": {
    "collapsed": true
   },
   "outputs": [],
   "source": [
    "'''\n",
    "Further Exploration (exemple MovieLens Data)\n",
    "    - for each occupation, calculate mean age\n",
    "    - for each occupation, calculate age range\n",
    "    - for each occupation/gender combination, calculate mean age\n",
    "    - for each movie, count number of ratings\n",
    "    - limit results to movies with more than 100 ratings\n",
    "'''"
   ]
  },
  {
   "cell_type": "code",
   "execution_count": null,
   "metadata": {
    "collapsed": true
   },
   "outputs": [],
   "source": [
    "# read 'u.user' into 'users'\n",
    "u_cols = ['user_id', 'age', 'gender', 'occupation', 'zip_code']\n",
    "users = pd.read_table('./data/u.user', header=None, sep='|', names=u_cols, index_col='user_id', dtype={'zip_code':str})\n"
   ]
  },
  {
   "cell_type": "code",
   "execution_count": null,
   "metadata": {
    "collapsed": true
   },
   "outputs": [],
   "source": [
    "# read 'u.item' into 'movies'\n",
    "m_cols = ['movie_id', 'title']\n",
    "movies = pd.read_table('./data/u.item', header=None, names=m_cols, sep='|', usecols=[0, 1])\n",
    "\n"
   ]
  },
  {
   "cell_type": "code",
   "execution_count": null,
   "metadata": {
    "collapsed": true
   },
   "outputs": [],
   "source": [
    "# read 'u.data' into 'ratings'\n",
    "r_cols = ['user_id', 'movie_id', 'rating', 'unix_timestamp']\n",
    "ratings = pd.read_table('./data/u.data', header=None, names=r_cols, sep='\\t')"
   ]
  },
  {
   "cell_type": "code",
   "execution_count": null,
   "metadata": {
    "collapsed": true
   },
   "outputs": [],
   "source": [
    "# merge 'movies' and 'ratings' (inner join on 'movie_id')\n",
    "movie_ratings = pd.merge(movies, ratings)\n",
    "movie_ratings.head()\n",
    "movie_ratings.shape"
   ]
  },
  {
   "cell_type": "code",
   "execution_count": null,
   "metadata": {
    "collapsed": true
   },
   "outputs": [],
   "source": []
  },
  {
   "cell_type": "code",
   "execution_count": null,
   "metadata": {
    "collapsed": true
   },
   "outputs": [],
   "source": [
    "# for each occupation, calculate mean age\n",
    "\n"
   ]
  },
  {
   "cell_type": "code",
   "execution_count": null,
   "metadata": {
    "collapsed": true
   },
   "outputs": [],
   "source": []
  },
  {
   "cell_type": "code",
   "execution_count": null,
   "metadata": {
    "collapsed": true
   },
   "outputs": [],
   "source": [
    "# for each occupation, calculate age range\n",
    "\n"
   ]
  },
  {
   "cell_type": "code",
   "execution_count": null,
   "metadata": {
    "collapsed": true
   },
   "outputs": [],
   "source": []
  },
  {
   "cell_type": "code",
   "execution_count": null,
   "metadata": {
    "collapsed": true
   },
   "outputs": [],
   "source": [
    "# for each occupation/gender combination, calculate mean age\n",
    "\n"
   ]
  },
  {
   "cell_type": "code",
   "execution_count": null,
   "metadata": {
    "collapsed": true
   },
   "outputs": [],
   "source": []
  },
  {
   "cell_type": "code",
   "execution_count": null,
   "metadata": {
    "collapsed": true
   },
   "outputs": [],
   "source": [
    "# for each movie, count number of ratings\n",
    "\n"
   ]
  },
  {
   "cell_type": "code",
   "execution_count": null,
   "metadata": {
    "collapsed": true
   },
   "outputs": [],
   "source": []
  },
  {
   "cell_type": "code",
   "execution_count": null,
   "metadata": {
    "collapsed": true
   },
   "outputs": [],
   "source": [
    "# for each movie, calculate mean rating\n",
    "\n"
   ]
  },
  {
   "cell_type": "code",
   "execution_count": null,
   "metadata": {
    "collapsed": true
   },
   "outputs": [],
   "source": []
  },
  {
   "cell_type": "code",
   "execution_count": null,
   "metadata": {
    "collapsed": true
   },
   "outputs": [],
   "source": [
    "# for each movie, count number of ratings and calculate mean rating\n",
    "\n"
   ]
  },
  {
   "cell_type": "code",
   "execution_count": null,
   "metadata": {
    "collapsed": true
   },
   "outputs": [],
   "source": []
  },
  {
   "cell_type": "code",
   "execution_count": null,
   "metadata": {
    "collapsed": true
   },
   "outputs": [],
   "source": [
    "# limit results to movies with more than 100 ratings\n",
    "\n"
   ]
  },
  {
   "cell_type": "markdown",
   "metadata": {},
   "source": [
    "## Answers"
   ]
  },
  {
   "cell_type": "code",
   "execution_count": null,
   "metadata": {
    "collapsed": true
   },
   "outputs": [],
   "source": [
    "# for each occupation, calculate mean age\n",
    "users.groupby('occupation').age.mean()\n",
    "users.groupby('occupation').age.agg(np.mean)    # equivalent\n",
    "\n",
    "# for each occupation, calculate age range\n",
    "users.groupby('occupation').age.agg([np.min, np.max])\n",
    "users.groupby('occupation').age.agg([np.min, np.max]).sort('amin')  # sort by minimum\n",
    "users.groupby('occupation').age.agg(lambda x: x.max() - x.min())    # calculate a single value\n",
    "\n",
    "# for each occupation/gender combination, calculate mean age\n",
    "users.groupby(['occupation', 'gender']).age.mean()\n",
    "users.groupby(['gender', 'occupation']).age.mean()\n",
    "\n",
    "# for each movie, count number of ratings\n",
    "movie_ratings.title.value_counts()\n",
    "\n",
    "# for each movie, calculate mean rating\n",
    "movie_ratings.groupby('title').rating.mean().order(ascending=False)\n",
    "\n",
    "# for each movie, count number of ratings and calculate mean rating\n",
    "movie_ratings.groupby('title').rating.count()\n",
    "movie_ratings.groupby('title').rating.mean()\n",
    "movie_stats = movie_ratings.groupby('title').rating.agg([np.size, np.mean])\n",
    "movie_stats.head()\n",
    "\n",
    "# limit results to movies with more than 100 ratings\n",
    "movie_stats[movie_stats['size'] > 100].sort_index(by='mean')\n",
    "\n"
   ]
  }
 ],
 "metadata": {
  "kernelspec": {
   "display_name": "Python 3",
   "language": "python",
   "name": "python3"
  },
  "language_info": {
   "codemirror_mode": {
    "name": "ipython",
    "version": 3
   },
   "file_extension": ".py",
   "mimetype": "text/x-python",
   "name": "python",
   "nbconvert_exporter": "python",
   "pygments_lexer": "ipython3",
   "version": "3.6.1"
  }
 },
 "nbformat": 4,
 "nbformat_minor": 2
}
