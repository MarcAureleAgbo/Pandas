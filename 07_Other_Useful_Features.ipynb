{
 "cells": [
  {
   "cell_type": "code",
   "execution_count": null,
   "metadata": {
    "collapsed": true
   },
   "outputs": [],
   "source": [
    "'''\n",
    "Other Useful Features\n",
    "    - Series have many useful string methods (accessed via 'str')\n",
    "    - replace all instances of a value (supports 'inplace=True' argument)\n",
    "    - map values to other values\n",
    "    - convert a range of values into descriptive groups\n",
    "    - create dummy variables for 'continent' and add them to the DataFrame\n",
    "    - randomly sample a DataFrame\n",
    "'''"
   ]
  },
  {
   "cell_type": "code",
   "execution_count": null,
   "metadata": {
    "collapsed": true
   },
   "outputs": [],
   "source": []
  },
  {
   "cell_type": "code",
   "execution_count": null,
   "metadata": {
    "collapsed": true
   },
   "outputs": [],
   "source": [
    "# limit which rows are read when reading in a file\n",
    "None          # only read first 10 rows\n",
    "None          # skip the first two rows of data\n",
    "\n"
   ]
  },
  {
   "cell_type": "code",
   "execution_count": null,
   "metadata": {
    "collapsed": true
   },
   "outputs": [],
   "source": [
    "# replace existing column headers when reading in a file\n",
    "col_names = ['country', 'beer', 'spirit', 'wine', 'alcohol', 'continent']\n",
    "pd.read_csv('./data/drinks.csv', header=0, names=col_names)\n",
    "\n"
   ]
  },
  {
   "cell_type": "code",
   "execution_count": null,
   "metadata": {
    "collapsed": true
   },
   "outputs": [],
   "source": [
    "# create a DataFrame from a dictionary of lists\n",
    "pd.DataFrame({'state':['AL', 'AK', 'AZ'], 'capital':['Montgomery', 'Juneau', 'Phoenix']})\n",
    "\n"
   ]
  },
  {
   "cell_type": "code",
   "execution_count": null,
   "metadata": {
    "collapsed": true
   },
   "outputs": [],
   "source": []
  },
  {
   "cell_type": "code",
   "execution_count": null,
   "metadata": {
    "collapsed": true
   },
   "outputs": [],
   "source": [
    "# Series have many useful string methods (accessed via 'str')\n",
    "drinks.country.str.upper()                  # returns uppercase Series\n",
    "drinks.country.str.contains('Aus')          # returns a Series of booleans...\n",
    "drinks[drinks.country.str.contains('Aus')]  # ...which can be used for filtering\n",
    "\n"
   ]
  },
  {
   "cell_type": "code",
   "execution_count": null,
   "metadata": {
    "collapsed": true
   },
   "outputs": [],
   "source": []
  },
  {
   "cell_type": "code",
   "execution_count": null,
   "metadata": {
    "collapsed": true
   },
   "outputs": [],
   "source": [
    "# only select columns with names that match a specific pattern\n",
    "cols = pd.Series(drinks.columns)\n",
    "drinks[cols[cols.str.contains('servings')]]\n",
    "\n"
   ]
  },
  {
   "cell_type": "code",
   "execution_count": null,
   "metadata": {
    "collapsed": true
   },
   "outputs": [],
   "source": []
  },
  {
   "cell_type": "code",
   "execution_count": null,
   "metadata": {
    "collapsed": true
   },
   "outputs": [],
   "source": [
    "# replace all instances of a value (supports 'inplace=True' argument)\n",
    "drinks.continent.replace('EU', 'EUR')   # replace values in a Series\n",
    "drinks.replace('USA', 'United States')  # replace values throughout a DataFrame\n",
    "\n"
   ]
  },
  {
   "cell_type": "code",
   "execution_count": null,
   "metadata": {
    "collapsed": true
   },
   "outputs": [],
   "source": []
  },
  {
   "cell_type": "code",
   "execution_count": null,
   "metadata": {
    "collapsed": true
   },
   "outputs": [],
   "source": [
    "# map values to other values\n",
    "drinks['hemisphere'] = drinks.continent.map({'NA':'West', 'SA':'West', 'EU':'East', 'AF':'East', 'AS':'East', 'OC':'East'})\n"
   ]
  },
  {
   "cell_type": "code",
   "execution_count": null,
   "metadata": {
    "collapsed": true
   },
   "outputs": [],
   "source": []
  },
  {
   "cell_type": "code",
   "execution_count": null,
   "metadata": {
    "collapsed": true
   },
   "outputs": [],
   "source": [
    "# convert a range of values into descriptive groups\n",
    "drinks['beer_level'] = 'low'    # initially set all values to 'low'\n",
    "drinks.loc[drinks.beer_servings.between(101, 200), 'beer_level'] = 'med'    # change 101-200 to 'med'\n",
    "drinks.loc[drinks.beer_servings.between(201, 400), 'beer_level'] = 'high'   # change 201-400 to 'high'\n",
    "\n"
   ]
  },
  {
   "cell_type": "code",
   "execution_count": null,
   "metadata": {
    "collapsed": true
   },
   "outputs": [],
   "source": []
  },
  {
   "cell_type": "code",
   "execution_count": null,
   "metadata": {
    "collapsed": true
   },
   "outputs": [],
   "source": [
    "# display a cross-tabulation of two Series\n",
    "pd.crosstab(drinks.continent, drinks.beer_level)\n",
    "\n"
   ]
  },
  {
   "cell_type": "code",
   "execution_count": null,
   "metadata": {
    "collapsed": true
   },
   "outputs": [],
   "source": []
  },
  {
   "cell_type": "code",
   "execution_count": null,
   "metadata": {
    "collapsed": true
   },
   "outputs": [],
   "source": [
    "# convert 'beer_level' into the 'category' data type (new in pandas 0.15.0)\n",
    "drinks['beer_level'] = pd.Categorical(drinks.beer_level, categories=['low', 'med', 'high'])\n",
    "drinks.sort_index(by='beer_level')      # sorts by the categorical ordering (low to high)\n",
    "\n"
   ]
  },
  {
   "cell_type": "code",
   "execution_count": null,
   "metadata": {
    "collapsed": true
   },
   "outputs": [],
   "source": []
  },
  {
   "cell_type": "code",
   "execution_count": null,
   "metadata": {
    "collapsed": true
   },
   "outputs": [],
   "source": [
    "# create dummy variables for 'continent' and add them to the DataFrame\n",
    "cont_dummies = pd.get_dummies(drinks.continent, prefix='cont').iloc[:, 1:]  # exclude first column\n",
    "drinks = pd.concat([drinks, cont_dummies], axis=1)  # axis=0 for rows, axis=1 for columns\n",
    "\n"
   ]
  },
  {
   "cell_type": "code",
   "execution_count": null,
   "metadata": {
    "collapsed": true
   },
   "outputs": [],
   "source": []
  },
  {
   "cell_type": "code",
   "execution_count": null,
   "metadata": {
    "collapsed": true
   },
   "outputs": [],
   "source": [
    "# randomly sample a DataFrame\n",
    "mask = np.random.rand(len(drinks)) < 0.66   # create a Series of booleans\n",
    "train = drinks[mask]                        # will contain about 66% of the rows\n",
    "test = drinks[~mask]                        # will contain the remaining rows"
   ]
  },
  {
   "cell_type": "code",
   "execution_count": null,
   "metadata": {
    "collapsed": true
   },
   "outputs": [],
   "source": []
  },
  {
   "cell_type": "markdown",
   "metadata": {},
   "source": [
    "## Answer"
   ]
  },
  {
   "cell_type": "code",
   "execution_count": null,
   "metadata": {
    "collapsed": true
   },
   "outputs": [],
   "source": [
    "'''\n",
    "Other Useful Features\n",
    "'''\n",
    "\n",
    "# limit which rows are read when reading in a file\n",
    "pd.read_csv('../data/drinks.csv', nrows=10)         # only read first 10 rows\n",
    "pd.read_csv('../data/drinks.csv', skiprows=[1, 2])  # skip the first two rows of data\n",
    "\n",
    "# replace existing column headers when reading in a file\n",
    "col_names = ['country', 'beer', 'spirit', 'wine', 'alcohol', 'continent']\n",
    "pd.read_csv('../data/drinks.csv', header=0, names=col_names)\n",
    "\n",
    "# create a DataFrame from a dictionary of lists\n",
    "pd.DataFrame({'state':['AL', 'AK', 'AZ'], 'capital':['Montgomery', 'Juneau', 'Phoenix']})\n",
    "\n",
    "# Series have many useful string methods (accessed via 'str')\n",
    "drinks.country.str.upper()                  # returns uppercase Series\n",
    "drinks.country.str.contains('Aus')          # returns a Series of booleans...\n",
    "drinks[drinks.country.str.contains('Aus')]  # ...which can be used for filtering\n",
    "\n",
    "# only select columns with names that match a specific pattern\n",
    "cols = pd.Series(drinks.columns)\n",
    "drinks[cols[cols.str.contains('servings')]]\n",
    "\n",
    "# replace all instances of a value (supports 'inplace=True' argument)\n",
    "drinks.continent.replace('EU', 'EUR')   # replace values in a Series\n",
    "drinks.replace('USA', 'United States')  # replace values throughout a DataFrame\n",
    "\n",
    "# map values to other values\n",
    "drinks['hemisphere'] = drinks.continent.map({'NA':'West', 'SA':'West', 'EU':'East', 'AF':'East', 'AS':'East', 'OC':'East'})\n",
    "\n",
    "# convert a range of values into descriptive groups\n",
    "drinks['beer_level'] = 'low'    # initially set all values to 'low'\n",
    "drinks.loc[drinks.beer_servings.between(101, 200), 'beer_level'] = 'med'    # change 101-200 to 'med'\n",
    "drinks.loc[drinks.beer_servings.between(201, 400), 'beer_level'] = 'high'   # change 201-400 to 'high'\n",
    "\n",
    "# display a cross-tabulation of two Series\n",
    "pd.crosstab(drinks.continent, drinks.beer_level)\n",
    "\n",
    "# convert 'beer_level' into the 'category' data type (new in pandas 0.15.0)\n",
    "drinks['beer_level'] = pd.Categorical(drinks.beer_level, categories=['low', 'med', 'high'])\n",
    "drinks.sort_index(by='beer_level')      # sorts by the categorical ordering (low to high)\n",
    "\n",
    "# create dummy variables for 'continent' and add them to the DataFrame\n",
    "cont_dummies = pd.get_dummies(drinks.continent, prefix='cont').iloc[:, 1:]  # exclude first column\n",
    "drinks = pd.concat([drinks, cont_dummies], axis=1)  # axis=0 for rows, axis=1 for columns\n",
    "\n",
    "# randomly sample a DataFrame\n",
    "mask = np.random.rand(len(drinks)) < 0.66   # create a Series of booleans\n",
    "train = drinks[mask]                        # will contain about 66% of the rows\n",
    "test = drinks[~mask]                        # will contain the remaining rows\n"
   ]
  }
 ],
 "metadata": {
  "kernelspec": {
   "display_name": "Python 3",
   "language": "python",
   "name": "python3"
  },
  "language_info": {
   "codemirror_mode": {
    "name": "ipython",
    "version": 3
   },
   "file_extension": ".py",
   "mimetype": "text/x-python",
   "name": "python",
   "nbconvert_exporter": "python",
   "pygments_lexer": "ipython3",
   "version": "3.6.1"
  }
 },
 "nbformat": 4,
 "nbformat_minor": 2
}
